import pandas as pd
import matplotlib.pyplot as plt

def display_stats_evolution(df: pd.DataFrame) -> None:
    stats_by_generation = df.groupby('Generation')[['Attack', 'Defense', 'HP']].mean()

    plt.figure(figsize=(6, 3))

    for column in stats_by_generation.columns:
        plt.plot(stats_by_generation.index, stats_by_generation[column], marker='o', label=column)

    plt.title('Évolution des statistiques moyennes par génération')
    plt.xlabel('Génération')
    plt.ylabel('Moyenne des statistiques')
    plt.xticks(stats_by_generation.index)  # Using index of the DataFrame for x-axis ticks
    plt.legend()
    plt.grid(True)
    plt.show()

# Assuming pokedex is your DataFrame
display_stats_evolution(pokedex)
